{
 "cells": [
  {
   "cell_type": "markdown",
   "id": "33dc8bb9",
   "metadata": {},
   "source": [
    "Imports para editar o vídeo, espelha-lo no eixo X e mostra-lo: "
   ]
  },
  {
   "cell_type": "code",
   "execution_count": null,
   "id": "81dcdec6",
   "metadata": {},
   "outputs": [],
   "source": [
    "import moviepy.editor as mpe\n",
    "from moviepy.video.fx.all import mirror_x"
   ]
  },
  {
   "cell_type": "markdown",
   "id": "5a8fcf7a",
   "metadata": {},
   "source": [
    "Acessando o arquivo do vídeo a ser editado:"
   ]
  },
  {
   "cell_type": "code",
   "execution_count": null,
   "id": "eef60e83",
   "metadata": {},
   "outputs": [],
   "source": [
    "video = mpe.VideoFileClip(\"C:/Users/marcu/Desktop/Projeto 2 MM/Vídeo sem título ‐ Feito com o Clipchamp (1).mp4\")"
   ]
  },
  {
   "cell_type": "markdown",
   "id": "cb46a223",
   "metadata": {},
   "source": [
    "Função para espelhar o vídeo no eixo X a cada 20 segundos:"
   ]
  },
  {
   "cell_type": "code",
   "execution_count": null,
   "id": "06c678a5",
   "metadata": {},
   "outputs": [],
   "source": [
    "clips = []\n",
    "flip = False\n",
    "step = 20\n",
    "for i in range(0, int(video.duration), step):\n",
    "    subclip = video.subclip(i, min(i + step, video.duration))\n",
    "    if flip:\n",
    "        subclip = subclip.fx(mirror_x)\n",
    "    clips.append(subclip)\n",
    "    flip = not flip\n",
    "\n",
    "video_flipped = mpe.concatenate_videoclips(clips)"
   ]
  },
  {
   "cell_type": "markdown",
   "id": "ab9cbe8e",
   "metadata": {},
   "source": [
    "Função para diminuir gradualmente o som do vídeo em 25% a cada 30 segundos:"
   ]
  },
  {
   "cell_type": "code",
   "execution_count": null,
   "id": "69876f10",
   "metadata": {},
   "outputs": [],
   "source": [
    "def aplicar_volume_gradual(clip):\n",
    "    novo_clips = []\n",
    "    duracao_total = int(clip.duration)\n",
    "    intervalo = 30\n",
    "    for i in range(0, duracao_total, intervalo):\n",
    "        sub = clip.subclip(i, min(i + intervalo, duracao_total))\n",
    "        fator_volume = max(0, 1 - 0.25 * (i // intervalo))  # 25% a cada 30s\n",
    "        sub = sub.volumex(fator_volume)\n",
    "        novo_clips.append(sub)\n",
    "    return mpe.concatenate_videoclips(novo_clips)\n",
    "\n",
    "video_volume_gradual = aplicar_volume_gradual(video_flipped)"
   ]
  },
  {
   "cell_type": "markdown",
   "id": "f540b26e",
   "metadata": {},
   "source": [
    "Função que, aos 60 segundos, corta para o segundo 80 do vídeo e exibe as partes cortadas no final:"
   ]
  },
  {
   "cell_type": "code",
   "execution_count": null,
   "id": "857a2295",
   "metadata": {},
   "outputs": [],
   "source": [
    "if video_volume_gradual.duration > 80:\n",
    "    parte_1 = video_volume_gradual.subclip(0, 60)\n",
    "    parte_2 = video_volume_gradual.subclip(80)\n",
    "    parte_cortada = video_volume_gradual.subclip(60, 80)\n",
    "    video_final = mpe.concatenate_videoclips([parte_1, parte_2, parte_cortada])\n",
    "else:\n",
    "    video_final = video_volume_gradual"
   ]
  },
  {
   "cell_type": "markdown",
   "id": "69be6f3e",
   "metadata": {},
   "source": [
    "Salvando o resultado final das mudanças aplicadas:"
   ]
  },
  {
   "cell_type": "code",
   "execution_count": null,
   "id": "94cd33db",
   "metadata": {},
   "outputs": [],
   "source": [
    "video_final.write_videofile(\"video_final.mp4\", codec=\"libx264\", audio_codec=\"aac\")"
   ]
  },
  {
   "cell_type": "markdown",
   "id": "60fc9b46",
   "metadata": {},
   "source": [
    "Exibindo o vídeo final resultante das funções aplicadas acima:"
   ]
  },
  {
   "cell_type": "code",
   "execution_count": null,
   "id": "0a68cb64",
   "metadata": {},
   "outputs": [],
   "source": [
    "video_final.ipython_display(width=480, maxduration=139)"
   ]
  }
 ],
 "metadata": {
  "kernelspec": {
   "display_name": "Python 3",
   "language": "python",
   "name": "python3"
  },
  "language_info": {
   "codemirror_mode": {
    "name": "ipython",
    "version": 3
   },
   "file_extension": ".py",
   "mimetype": "text/x-python",
   "name": "python",
   "nbconvert_exporter": "python",
   "pygments_lexer": "ipython3",
   "version": "3.13.3"
  }
 },
 "nbformat": 4,
 "nbformat_minor": 5
}
